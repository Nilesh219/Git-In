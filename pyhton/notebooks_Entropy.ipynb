{
  "metadata": {
    "language_info": {
      "codemirror_mode": {
        "name": "python",
        "version": 3
      },
      "file_extension": ".py",
      "mimetype": "text/x-python",
      "name": "python",
      "nbconvert_exporter": "python",
      "pygments_lexer": "ipython3",
      "version": "3.8"
    },
    "kernelspec": {
      "name": "python",
      "display_name": "Python (Pyodide)",
      "language": "python"
    }
  },
  "nbformat_minor": 4,
  "nbformat": 4,
  "cells": [
    {
      "cell_type": "code",
      "source": "#Entropy\nimport numpy as np\nfrom collections import Counter",
      "metadata": {
        "trusted": true
      },
      "execution_count": 3,
      "outputs": []
    },
    {
      "cell_type": "code",
      "source": "#data in binary formate\ndata = [1, 1, 0, 0, 1, 0, 1, 1, 0, 0]\nprint(data)",
      "metadata": {
        "trusted": true
      },
      "execution_count": 4,
      "outputs": [
        {
          "name": "stdout",
          "text": "[1, 1, 0, 0, 1, 0, 1, 1, 0, 0]\n",
          "output_type": "stream"
        }
      ]
    },
    {
      "cell_type": "code",
      "source": "def entropy(data):\n    #Calculate total Number of Datapoints\n    totalof_data_points = len(data)\n    print(totalof_data_points)\n    \n    # Count the occurrences of each unique class label\n    lable_counts = Counter(data)\n    \n    # Iniliazation Entropy as 0\n    entropy_value = 0\n    \n    # Calculate entropy for each unique class label\n    for count in lable_counts.values():\n        probability = count/totalof_data_points\n        entropy_value -= probability * np.log2(probability)\n        \n    return entropy_value\n",
      "metadata": {
        "trusted": true
      },
      "execution_count": 11,
      "outputs": []
    },
    {
      "cell_type": "code",
      "source": "\n# Calculate the entropy of the dataset\ndata_entropy = entropy(data)\nprint(f\"Entropy of the dataset: {data_entropy}\")",
      "metadata": {
        "trusted": true
      },
      "execution_count": 12,
      "outputs": [
        {
          "name": "stdout",
          "text": "10\nEntropy of the dataset: 1.0\n",
          "output_type": "stream"
        }
      ]
    },
    {
      "cell_type": "code",
      "source": "",
      "metadata": {},
      "execution_count": null,
      "outputs": []
    }
  ]
}