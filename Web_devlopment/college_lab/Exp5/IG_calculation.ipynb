{
 "cells": [
  {
   "cell_type": "code",
   "execution_count": 2,
   "id": "3ed39008",
   "metadata": {},
   "outputs": [],
   "source": [
    "import pandas as pd\n",
    "import math"
   ]
  },
  {
   "cell_type": "code",
   "execution_count": 3,
   "id": "3e338323",
   "metadata": {},
   "outputs": [],
   "source": [
    "# Create a DataFrame for the dataset\n",
    "data = {\n",
    "    'Age': ['Young', 'Young', 'Middle-aged', 'Senior', 'Senior', 'Middle-aged', 'Senior', 'Young', 'Middle-aged', 'Young'],\n",
    "    'Income': ['High', 'Low', 'High', 'Medium', 'Low', 'Low', 'High', 'Medium', 'Medium', 'Low'],\n",
    "    'Purchase': ['No', 'Yes', 'No', 'Yes', 'Yes', 'No', 'Yes', 'No', 'Yes', 'Yes']\n",
    "}"
   ]
  },
  {
   "cell_type": "code",
   "execution_count": 4,
   "id": "b5c4750b",
   "metadata": {},
   "outputs": [],
   "source": [
    "df = pd.DataFrame(data)"
   ]
  },
  {
   "cell_type": "code",
   "execution_count": 8,
   "id": "295299bd",
   "metadata": {},
   "outputs": [],
   "source": [
    "# Calculate Information Gain for an attribute\n",
    "def information_gain(attribute, target):\n",
    "    # Calculate entropy for a given probability\n",
    "    def entropy(prob):\n",
    "        if prob == 0 or prob == 1:\n",
    "            return 0\n",
    "        return -prob * math.log2(prob)\n",
    "\n",
    "    # Calculate entropy for a set of instances\n",
    "    def entropy_for_set(yes_count, total_count):\n",
    "        prob_yes = yes_count / total_count\n",
    "        prob_no = 1 - prob_yes\n",
    "        return entropy(prob_yes) + entropy(prob_no)\n",
    "\n",
    "    total_instances = len(target)\n",
    "    entropy_s = entropy_for_set(target.value_counts().get('Yes', 0), total_instances)\n",
    "\n",
    "    weighted_entropy = 0\n",
    "    for value in attribute.unique():\n",
    "        subset_indices = attribute[attribute == value].index\n",
    "        subset_entropy = entropy_for_set(target[subset_indices].value_counts().get('Yes', 0), len(subset_indices))\n",
    "        weighted_entropy += len(subset_indices) / total_instances * subset_entropy\n",
    "\n",
    "    information_gain_value = entropy_s - weighted_entropy\n",
    "    return information_gain_value"
   ]
  },
  {
   "cell_type": "code",
   "execution_count": 9,
   "id": "bc160dc3",
   "metadata": {},
   "outputs": [],
   "source": [
    "# Separate features and target variable\n",
    "X = df[['Age', 'Income']]\n",
    "y = df['Purchase']"
   ]
  },
  {
   "cell_type": "code",
   "execution_count": 10,
   "id": "30de4ad4",
   "metadata": {},
   "outputs": [],
   "source": [
    "# Calculate Information Gain for Age\n",
    "ig_age = information_gain(X['Age'], y)"
   ]
  },
  {
   "cell_type": "code",
   "execution_count": 11,
   "id": "2a34a6a0",
   "metadata": {},
   "outputs": [],
   "source": [
    "# Calculate Information Gain for Income\n",
    "ig_income = information_gain(X['Income'], y)"
   ]
  },
  {
   "cell_type": "code",
   "execution_count": 12,
   "id": "ce7f4bb5",
   "metadata": {},
   "outputs": [
    {
     "name": "stdout",
     "output_type": "stream",
     "text": [
      "Information Gain for Age: 0.29546184423832167\n",
      "Information Gain for Income: 0.09546184423832171\n"
     ]
    }
   ],
   "source": [
    "print(f\"Information Gain for Age: {ig_age}\")\n",
    "print(f\"Information Gain for Income: {ig_income}\")"
   ]
  }
 ],
 "metadata": {
  "kernelspec": {
   "display_name": "Python 3 (ipykernel)",
   "language": "python",
   "name": "python3"
  },
  "language_info": {
   "codemirror_mode": {
    "name": "ipython",
    "version": 3
   },
   "file_extension": ".py",
   "mimetype": "text/x-python",
   "name": "python",
   "nbconvert_exporter": "python",
   "pygments_lexer": "ipython3",
   "version": "3.11.5"
  }
 },
 "nbformat": 4,
 "nbformat_minor": 5
}
