{
 "cells": [
  {
   "cell_type": "code",
   "execution_count": 1,
   "id": "fed0823d",
   "metadata": {},
   "outputs": [],
   "source": [
    "import pandas as pd\n",
    "from sklearn.model_selection import train_test_split\n",
    "from sklearn.preprocessing import StandardScaler\n",
    "from sklearn.impute import SimpleImputer\n",
    "from sklearn.preprocessing import LabelEncoder"
   ]
  },
  {
   "cell_type": "code",
   "execution_count": 2,
   "id": "d11a6e56",
   "metadata": {},
   "outputs": [],
   "source": [
    "# Load the Wine Quality dataset\n",
    "file_path = 'winequality-red.csv'  # Replace with your file path\n",
    "data = pd.read_csv(file_path, sep=';')"
   ]
  },
  {
   "cell_type": "code",
   "execution_count": 3,
   "id": "6c817633",
   "metadata": {},
   "outputs": [
    {
     "name": "stdout",
     "output_type": "stream",
     "text": [
      "   fixed acidity  volatile acidity  citric acid  residual sugar  chlorides  \\\n",
      "0            7.4              0.70         0.00             1.9      0.076   \n",
      "1            7.8              0.88         0.00             2.6      0.098   \n",
      "2            7.8              0.76         0.04             2.3      0.092   \n",
      "3           11.2              0.28         0.56             1.9      0.075   \n",
      "4            7.4              0.70         0.00             1.9      0.076   \n",
      "\n",
      "   free sulfur dioxide  total sulfur dioxide  density    pH  sulphates  \\\n",
      "0                 11.0                  34.0   0.9978  3.51       0.56   \n",
      "1                 25.0                  67.0   0.9968  3.20       0.68   \n",
      "2                 15.0                  54.0   0.9970  3.26       0.65   \n",
      "3                 17.0                  60.0   0.9980  3.16       0.58   \n",
      "4                 11.0                  34.0   0.9978  3.51       0.56   \n",
      "\n",
      "   alcohol  quality  \n",
      "0      9.4        5  \n",
      "1      9.8        5  \n",
      "2      9.8        5  \n",
      "3      9.8        6  \n",
      "4      9.4        5  \n"
     ]
    }
   ],
   "source": [
    "# Display the first few rows of the dataset\n",
    "print(data.head())"
   ]
  },
  {
   "cell_type": "code",
   "execution_count": 4,
   "id": "0226a717",
   "metadata": {},
   "outputs": [],
   "source": [
    "# Feature Selection\n",
    "# Use all features in this example\n",
    "X = data.drop('quality', axis=1)\n",
    "y = data['quality']"
   ]
  },
  {
   "cell_type": "code",
   "execution_count": 5,
   "id": "7015e7bc",
   "metadata": {},
   "outputs": [],
   "source": [
    "# Handling Missing Values\n",
    "# For simplicity, let's fill missing values with the mean\n",
    "imputer = SimpleImputer(strategy='mean')\n",
    "X = pd.DataFrame(imputer.fit_transform(X), columns=X.columns)"
   ]
  },
  {
   "cell_type": "code",
   "execution_count": 6,
   "id": "e33deadc",
   "metadata": {},
   "outputs": [],
   "source": [
    "# Label Encoding (if there are categorical variables)\n",
    "# For simplicity, let's assume there are none in this example\n",
    "# Replace this part with actual encoding if needed\n",
    "\n",
    "# Splitting Data\n",
    "X_train, X_test, y_train, y_test = train_test_split(X, y, test_size=0.2, random_state=42)\n"
   ]
  },
  {
   "cell_type": "code",
   "execution_count": 7,
   "id": "d3cbc028",
   "metadata": {},
   "outputs": [],
   "source": [
    "# Further preprocessing steps (e.g., scaling) can be added based on the specific requirements of your machine learning model.\n",
    "\n",
    "# Standardize the features (optional)\n",
    "scaler = StandardScaler()\n",
    "X_train_scaled = scaler.fit_transform(X_train)\n",
    "X_test_scaled = scaler.transform(X_test)"
   ]
  },
  {
   "cell_type": "code",
   "execution_count": 8,
   "id": "7e40d138",
   "metadata": {},
   "outputs": [
    {
     "name": "stdout",
     "output_type": "stream",
     "text": [
      "\n",
      "Preprocessed Data:\n",
      "     fixed acidity  volatile acidity  citric acid  residual sugar  chlorides  \\\n",
      "493            8.7             0.690         0.31             3.0      0.086   \n",
      "354            6.1             0.210         0.40             1.4      0.066   \n",
      "342           10.9             0.390         0.47             1.8      0.118   \n",
      "834            8.8             0.685         0.26             1.6      0.088   \n",
      "705            8.4             1.035         0.15             6.0      0.073   \n",
      "\n",
      "     free sulfur dioxide  total sulfur dioxide  density    pH  sulphates  \\\n",
      "493                 23.0                  81.0  1.00020  3.48       0.74   \n",
      "354                 40.5                 165.0  0.99120  3.25       0.59   \n",
      "342                  6.0                  14.0  0.99820  3.30       0.75   \n",
      "834                 16.0                  23.0  0.99694  3.32       0.47   \n",
      "705                 11.0                  54.0  0.99900  3.37       0.49   \n",
      "\n",
      "     alcohol  \n",
      "493     11.6  \n",
      "354     11.9  \n",
      "342      9.8  \n",
      "834      9.4  \n",
      "705      9.9  \n"
     ]
    }
   ],
   "source": [
    "# Display information about the preprocessed dataset\n",
    "print('\\nPreprocessed Data:')\n",
    "print(X_train.head())\n",
    "\n",
    "# Now, you can use X_train, X_test, y_train, and y_test for machine learning model training and testing."
   ]
  },
  {
   "cell_type": "code",
   "execution_count": null,
   "id": "745bc22b",
   "metadata": {},
   "outputs": [],
   "source": []
  }
 ],
 "metadata": {
  "kernelspec": {
   "display_name": "Python 3 (ipykernel)",
   "language": "python",
   "name": "python3"
  },
  "language_info": {
   "codemirror_mode": {
    "name": "ipython",
    "version": 3
   },
   "file_extension": ".py",
   "mimetype": "text/x-python",
   "name": "python",
   "nbconvert_exporter": "python",
   "pygments_lexer": "ipython3",
   "version": "3.11.5"
  }
 },
 "nbformat": 4,
 "nbformat_minor": 5
}
