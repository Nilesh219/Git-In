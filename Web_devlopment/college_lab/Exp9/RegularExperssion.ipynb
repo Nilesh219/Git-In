{
  "nbformat": 4,
  "nbformat_minor": 0,
  "metadata": {
    "colab": {
      "provenance": []
    },
    "kernelspec": {
      "name": "python3",
      "display_name": "Python 3"
    },
    "language_info": {
      "name": "python"
    }
  },
  "cells": [
    {
      "cell_type": "code",
      "execution_count": null,
      "metadata": {
        "id": "KC5_QlG4FleW"
      },
      "outputs": [],
      "source": [
        "# Regular Expressions\n",
        "import re"
      ]
    },
    {
      "cell_type": "code",
      "source": [
        "txt = \"The rain in Spain\"\n",
        "x = re.search(\"^The.*Spain$\",txt)\n",
        "print(x)"
      ],
      "metadata": {
        "colab": {
          "base_uri": "https://localhost:8080/"
        },
        "id": "h0GpaPiJF4w8",
        "outputId": "7d33e60d-ba7d-4e39-9efb-96e9e1e3e2e4"
      },
      "execution_count": null,
      "outputs": [
        {
          "output_type": "stream",
          "name": "stdout",
          "text": [
            "<re.Match object; span=(0, 17), match='The rain in Spain'>\n"
          ]
        }
      ]
    },
    {
      "cell_type": "code",
      "source": [
        "txt1 = \"Hello How are you\"\n",
        "y = re.search(\"How are\",txt1)\n",
        "print(y)"
      ],
      "metadata": {
        "colab": {
          "base_uri": "https://localhost:8080/"
        },
        "id": "17IRvZAxG1fM",
        "outputId": "01ed7a9a-d4bd-46ba-91ed-7f1bcadc7b55"
      },
      "execution_count": null,
      "outputs": [
        {
          "output_type": "stream",
          "name": "stdout",
          "text": [
            "<re.Match object; span=(6, 13), match='How are'>\n"
          ]
        }
      ]
    },
    {
      "cell_type": "code",
      "source": [
        "# The findall() function returns a list containing all matches.\n",
        "x = re.findall(\"ain\",txt)\n",
        "print(x)"
      ],
      "metadata": {
        "colab": {
          "base_uri": "https://localhost:8080/"
        },
        "id": "0s7dQ49YHQYU",
        "outputId": "d7276b42-b60c-4278-b403-fbea04d40903"
      },
      "execution_count": null,
      "outputs": [
        {
          "output_type": "stream",
          "name": "stdout",
          "text": [
            "['ain', 'ain']\n"
          ]
        }
      ]
    },
    {
      "cell_type": "code",
      "source": [
        "x = re.findall(\"Span\",txt)\n",
        "print(x)"
      ],
      "metadata": {
        "colab": {
          "base_uri": "https://localhost:8080/"
        },
        "id": "mc0aRtXcH9A7",
        "outputId": "d0bccaf3-8212-4fbd-8fdf-82d52813654a"
      },
      "execution_count": null,
      "outputs": [
        {
          "output_type": "stream",
          "name": "stdout",
          "text": [
            "[]\n"
          ]
        }
      ]
    },
    {
      "cell_type": "code",
      "source": [
        "# The search() function searches the string for a match, and returns a Match object if there is a match\n",
        "x = re.search(\"\\s\",txt)\n",
        "print(\"The first white-space character is located in position: \",x.start())"
      ],
      "metadata": {
        "colab": {
          "base_uri": "https://localhost:8080/"
        },
        "id": "jVUTNIxrIgFE",
        "outputId": "f12570e2-188d-4d56-b8ac-3dcf6fe22ecd"
      },
      "execution_count": null,
      "outputs": [
        {
          "output_type": "stream",
          "name": "stdout",
          "text": [
            "The first white-space character is located in position:  3\n"
          ]
        }
      ]
    },
    {
      "cell_type": "code",
      "source": [
        "x = re.search(\"Spam\",txt)\n",
        "print(x)"
      ],
      "metadata": {
        "colab": {
          "base_uri": "https://localhost:8080/"
        },
        "id": "S4lBMl4dJXMz",
        "outputId": "d700f20a-a857-4d6c-ec90-c6e63535b026"
      },
      "execution_count": null,
      "outputs": [
        {
          "output_type": "stream",
          "name": "stdout",
          "text": [
            "None\n"
          ]
        }
      ]
    },
    {
      "cell_type": "code",
      "source": [
        "# The split() function returns a list where the string has been split at each match:\n",
        "x = re.split(\"\\s\",txt)\n",
        "print(x)"
      ],
      "metadata": {
        "colab": {
          "base_uri": "https://localhost:8080/"
        },
        "id": "mJx7GAkYKHYz",
        "outputId": "05940f5e-a13d-4fd6-c428-649437f2a6b8"
      },
      "execution_count": null,
      "outputs": [
        {
          "output_type": "stream",
          "name": "stdout",
          "text": [
            "['The', 'rain', 'in', 'Spain']\n"
          ]
        }
      ]
    },
    {
      "cell_type": "code",
      "source": [
        "x = re.split(\"\\s\",txt,1)\n",
        "print(x)"
      ],
      "metadata": {
        "colab": {
          "base_uri": "https://localhost:8080/"
        },
        "id": "UAfoMDvBK9zZ",
        "outputId": "1e6a7634-53c4-4f47-e486-5c924548f290"
      },
      "execution_count": null,
      "outputs": [
        {
          "output_type": "stream",
          "name": "stdout",
          "text": [
            "['The', 'rain in Spain']\n"
          ]
        }
      ]
    },
    {
      "cell_type": "code",
      "source": [
        "# The sub() function replaces the matches with the text of your choice:\n",
        "x = re.sub(\"\\s\",\"9\",txt)\n",
        "print(x)"
      ],
      "metadata": {
        "colab": {
          "base_uri": "https://localhost:8080/"
        },
        "id": "62IbI7xVLIPS",
        "outputId": "438941d5-5e3f-43de-d9ca-ec0def02b271"
      },
      "execution_count": null,
      "outputs": [
        {
          "output_type": "stream",
          "name": "stdout",
          "text": [
            "The9rain9in9Spain\n"
          ]
        }
      ]
    },
    {
      "cell_type": "code",
      "source": [
        "x = re.sub(\"\\s\",\"9\",txt,2)\n",
        "print(x)"
      ],
      "metadata": {
        "colab": {
          "base_uri": "https://localhost:8080/"
        },
        "id": "7G4wbYakLi8C",
        "outputId": "bc135aac-5d0a-483f-b9c7-5662fb904fcc"
      },
      "execution_count": null,
      "outputs": [
        {
          "output_type": "stream",
          "name": "stdout",
          "text": [
            "The9rain9in Spain\n"
          ]
        }
      ]
    },
    {
      "cell_type": "code",
      "source": [
        "x = re.search(\"ai\",txt)\n",
        "print(x)"
      ],
      "metadata": {
        "colab": {
          "base_uri": "https://localhost:8080/"
        },
        "id": "9luBtwBGRhjS",
        "outputId": "28f89a68-3e81-4f29-cf9a-be15ec1f7785"
      },
      "execution_count": null,
      "outputs": [
        {
          "output_type": "stream",
          "name": "stdout",
          "text": [
            "<re.Match object; span=(5, 7), match='ai'>\n"
          ]
        }
      ]
    },
    {
      "cell_type": "code",
      "source": [
        "# .span() returns a tuple containing the start-, and end positions of the match.\n",
        "# .string returns the string passed into the function\n",
        "# .group() returns the part of the string where there was a match\n",
        "\n",
        "#Search for an upper case \"S\" character in the beginning of a word, and print its position:\n",
        "x = re.search(r\"\\bS\\w+\",txt)\n",
        "print(x.span())"
      ],
      "metadata": {
        "colab": {
          "base_uri": "https://localhost:8080/"
        },
        "id": "kA-Kr3PZRp84",
        "outputId": "bf515152-daba-4e26-90b1-ea11fbaf655e"
      },
      "execution_count": null,
      "outputs": [
        {
          "output_type": "stream",
          "name": "stdout",
          "text": [
            "(12, 17)\n"
          ]
        }
      ]
    },
    {
      "cell_type": "code",
      "source": [
        "x = re.search(r\"\\bS\\w+\", txt)\n",
        "print(x.string)"
      ],
      "metadata": {
        "colab": {
          "base_uri": "https://localhost:8080/"
        },
        "id": "8HuqaTXtT5DB",
        "outputId": "836cf261-6e21-47cf-b6a7-ba8000e97b90"
      },
      "execution_count": null,
      "outputs": [
        {
          "output_type": "stream",
          "name": "stdout",
          "text": [
            "The rain in Spain\n"
          ]
        }
      ]
    },
    {
      "cell_type": "code",
      "source": [
        "#Search for an upper case \"S\" character in the beginning of a word, and print the word:\n",
        "x = re.search(r\"\\bS\\w+\", txt)\n",
        "print(x.group())"
      ],
      "metadata": {
        "colab": {
          "base_uri": "https://localhost:8080/"
        },
        "id": "TySUsF4rUXB5",
        "outputId": "16dd0445-affa-464e-8831-d6126d6addc2"
      },
      "execution_count": null,
      "outputs": [
        {
          "output_type": "stream",
          "name": "stdout",
          "text": [
            "Spain\n"
          ]
        }
      ]
    },
    {
      "cell_type": "code",
      "source": [
        "txt_new = \"Hello.....\"\n",
        "three_w_re = re.compile('Hello')\n",
        "three_w_re.search(txt_new)"
      ],
      "metadata": {
        "colab": {
          "base_uri": "https://localhost:8080/"
        },
        "id": "Cn22Wm9mVQD5",
        "outputId": "31345c2c-4df5-4312-d1bc-2c948022a897"
      },
      "execution_count": null,
      "outputs": [
        {
          "output_type": "execute_result",
          "data": {
            "text/plain": [
              "<re.Match object; span=(0, 5), match='Hello'>"
            ]
          },
          "metadata": {},
          "execution_count": 40
        }
      ]
    },
    {
      "cell_type": "code",
      "source": [
        "pattern = re.compile(\"d\")\n",
        "pattern.search(\"dog\")  # Match at index 0\n",
        "pattern.search(\"d\",1) # No match; search doesn't include the \"d\""
      ],
      "metadata": {
        "colab": {
          "base_uri": "https://localhost:8080/"
        },
        "id": "VsEvVtwVWcNC",
        "outputId": "a72d2c63-3448-44aa-e1df-851a43a23f20"
      },
      "execution_count": null,
      "outputs": [
        {
          "output_type": "execute_result",
          "data": {
            "text/plain": [
              "<re.Match object; span=(0, 1), match='d'>"
            ]
          },
          "metadata": {},
          "execution_count": 43
        }
      ]
    },
    {
      "cell_type": "code",
      "source": [
        "rhy = \"Bat bot hat hot\"\n",
        "rhy_re = re.compile(r'h[ao]t')\n",
        "rhy_matches = rhy_re.findall(rhy)\n",
        "\n",
        "print(rhy_matches)"
      ],
      "metadata": {
        "colab": {
          "base_uri": "https://localhost:8080/"
        },
        "id": "RWB9o-C7XSyS",
        "outputId": "2d155573-ff83-4aa2-d19d-680cd49bd779"
      },
      "execution_count": null,
      "outputs": [
        {
          "output_type": "stream",
          "name": "stdout",
          "text": [
            "['hat', 'hot']\n"
          ]
        }
      ]
    }
  ]
}