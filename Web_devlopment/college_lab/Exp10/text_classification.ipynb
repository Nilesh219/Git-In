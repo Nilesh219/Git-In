{
 "cells": [
  {
   "cell_type": "code",
   "execution_count": 1,
   "id": "df4b0dc3",
   "metadata": {},
   "outputs": [],
   "source": [
    "from sklearn.datasets import fetch_20newsgroups\n",
    "from sklearn.feature_extraction.text import TfidfVectorizer\n",
    "from sklearn.model_selection import train_test_split\n",
    "from sklearn.naive_bayes import MultinomialNB\n",
    "from sklearn.metrics import accuracy_score, classification_report, confusion_matrix"
   ]
  },
  {
   "cell_type": "code",
   "execution_count": 2,
   "id": "f9780021",
   "metadata": {},
   "outputs": [],
   "source": [
    "# Load the 20 Newsgroups dataset\n",
    "newsgroups = fetch_20newsgroups(subset='all', remove=('headers', 'footers', 'quotes'))"
   ]
  },
  {
   "cell_type": "code",
   "execution_count": 3,
   "id": "3cd569b5",
   "metadata": {},
   "outputs": [],
   "source": [
    "# Split the data into training and testing sets\n",
    "X_train, X_test, y_train, y_test = train_test_split(newsgroups.data, newsgroups.target, test_size=0.2, random_state=42)"
   ]
  },
  {
   "cell_type": "code",
   "execution_count": 4,
   "id": "e48b4bf8",
   "metadata": {},
   "outputs": [],
   "source": [
    "# Convert text data to TF-IDF features\n",
    "vectorizer = TfidfVectorizer(stop_words='english', max_features=5000)\n",
    "X_train_tfidf = vectorizer.fit_transform(X_train)\n",
    "X_test_tfidf = vectorizer.transform(X_test)"
   ]
  },
  {
   "cell_type": "code",
   "execution_count": 5,
   "id": "266fc48b",
   "metadata": {},
   "outputs": [
    {
     "data": {
      "text/html": [
       "<style>#sk-container-id-1 {color: black;}#sk-container-id-1 pre{padding: 0;}#sk-container-id-1 div.sk-toggleable {background-color: white;}#sk-container-id-1 label.sk-toggleable__label {cursor: pointer;display: block;width: 100%;margin-bottom: 0;padding: 0.3em;box-sizing: border-box;text-align: center;}#sk-container-id-1 label.sk-toggleable__label-arrow:before {content: \"▸\";float: left;margin-right: 0.25em;color: #696969;}#sk-container-id-1 label.sk-toggleable__label-arrow:hover:before {color: black;}#sk-container-id-1 div.sk-estimator:hover label.sk-toggleable__label-arrow:before {color: black;}#sk-container-id-1 div.sk-toggleable__content {max-height: 0;max-width: 0;overflow: hidden;text-align: left;background-color: #f0f8ff;}#sk-container-id-1 div.sk-toggleable__content pre {margin: 0.2em;color: black;border-radius: 0.25em;background-color: #f0f8ff;}#sk-container-id-1 input.sk-toggleable__control:checked~div.sk-toggleable__content {max-height: 200px;max-width: 100%;overflow: auto;}#sk-container-id-1 input.sk-toggleable__control:checked~label.sk-toggleable__label-arrow:before {content: \"▾\";}#sk-container-id-1 div.sk-estimator input.sk-toggleable__control:checked~label.sk-toggleable__label {background-color: #d4ebff;}#sk-container-id-1 div.sk-label input.sk-toggleable__control:checked~label.sk-toggleable__label {background-color: #d4ebff;}#sk-container-id-1 input.sk-hidden--visually {border: 0;clip: rect(1px 1px 1px 1px);clip: rect(1px, 1px, 1px, 1px);height: 1px;margin: -1px;overflow: hidden;padding: 0;position: absolute;width: 1px;}#sk-container-id-1 div.sk-estimator {font-family: monospace;background-color: #f0f8ff;border: 1px dotted black;border-radius: 0.25em;box-sizing: border-box;margin-bottom: 0.5em;}#sk-container-id-1 div.sk-estimator:hover {background-color: #d4ebff;}#sk-container-id-1 div.sk-parallel-item::after {content: \"\";width: 100%;border-bottom: 1px solid gray;flex-grow: 1;}#sk-container-id-1 div.sk-label:hover label.sk-toggleable__label {background-color: #d4ebff;}#sk-container-id-1 div.sk-serial::before {content: \"\";position: absolute;border-left: 1px solid gray;box-sizing: border-box;top: 0;bottom: 0;left: 50%;z-index: 0;}#sk-container-id-1 div.sk-serial {display: flex;flex-direction: column;align-items: center;background-color: white;padding-right: 0.2em;padding-left: 0.2em;position: relative;}#sk-container-id-1 div.sk-item {position: relative;z-index: 1;}#sk-container-id-1 div.sk-parallel {display: flex;align-items: stretch;justify-content: center;background-color: white;position: relative;}#sk-container-id-1 div.sk-item::before, #sk-container-id-1 div.sk-parallel-item::before {content: \"\";position: absolute;border-left: 1px solid gray;box-sizing: border-box;top: 0;bottom: 0;left: 50%;z-index: -1;}#sk-container-id-1 div.sk-parallel-item {display: flex;flex-direction: column;z-index: 1;position: relative;background-color: white;}#sk-container-id-1 div.sk-parallel-item:first-child::after {align-self: flex-end;width: 50%;}#sk-container-id-1 div.sk-parallel-item:last-child::after {align-self: flex-start;width: 50%;}#sk-container-id-1 div.sk-parallel-item:only-child::after {width: 0;}#sk-container-id-1 div.sk-dashed-wrapped {border: 1px dashed gray;margin: 0 0.4em 0.5em 0.4em;box-sizing: border-box;padding-bottom: 0.4em;background-color: white;}#sk-container-id-1 div.sk-label label {font-family: monospace;font-weight: bold;display: inline-block;line-height: 1.2em;}#sk-container-id-1 div.sk-label-container {text-align: center;}#sk-container-id-1 div.sk-container {/* jupyter's `normalize.less` sets `[hidden] { display: none; }` but bootstrap.min.css set `[hidden] { display: none !important; }` so we also need the `!important` here to be able to override the default hidden behavior on the sphinx rendered scikit-learn.org. See: https://github.com/scikit-learn/scikit-learn/issues/21755 */display: inline-block !important;position: relative;}#sk-container-id-1 div.sk-text-repr-fallback {display: none;}</style><div id=\"sk-container-id-1\" class=\"sk-top-container\"><div class=\"sk-text-repr-fallback\"><pre>MultinomialNB()</pre><b>In a Jupyter environment, please rerun this cell to show the HTML representation or trust the notebook. <br />On GitHub, the HTML representation is unable to render, please try loading this page with nbviewer.org.</b></div><div class=\"sk-container\" hidden><div class=\"sk-item\"><div class=\"sk-estimator sk-toggleable\"><input class=\"sk-toggleable__control sk-hidden--visually\" id=\"sk-estimator-id-1\" type=\"checkbox\" checked><label for=\"sk-estimator-id-1\" class=\"sk-toggleable__label sk-toggleable__label-arrow\">MultinomialNB</label><div class=\"sk-toggleable__content\"><pre>MultinomialNB()</pre></div></div></div></div></div>"
      ],
      "text/plain": [
       "MultinomialNB()"
      ]
     },
     "execution_count": 5,
     "metadata": {},
     "output_type": "execute_result"
    }
   ],
   "source": [
    "# Train a text classification model (Multinomial Naive Bayes)\n",
    "classifier = MultinomialNB()\n",
    "classifier.fit(X_train_tfidf, y_train)"
   ]
  },
  {
   "cell_type": "code",
   "execution_count": 6,
   "id": "035ed1d3",
   "metadata": {},
   "outputs": [],
   "source": [
    "# Make predictions on the test set\n",
    "y_pred = classifier.predict(X_test_tfidf)"
   ]
  },
  {
   "cell_type": "code",
   "execution_count": 7,
   "id": "ce2b32d9",
   "metadata": {},
   "outputs": [
    {
     "name": "stdout",
     "output_type": "stream",
     "text": [
      "Accuracy: 0.6835543766578249\n"
     ]
    }
   ],
   "source": [
    "# Evaluate the model\n",
    "accuracy = accuracy_score(y_test, y_pred)\n",
    "print(f'Accuracy: {accuracy}')"
   ]
  },
  {
   "cell_type": "code",
   "execution_count": 8,
   "id": "3370e513",
   "metadata": {},
   "outputs": [
    {
     "name": "stdout",
     "output_type": "stream",
     "text": [
      "\n",
      "Classification Report:\n",
      "                          precision    recall  f1-score   support\n",
      "\n",
      "             alt.atheism       0.59      0.46      0.52       151\n",
      "           comp.graphics       0.58      0.63      0.61       202\n",
      " comp.os.ms-windows.misc       0.61      0.63      0.62       195\n",
      "comp.sys.ibm.pc.hardware       0.54      0.69      0.61       183\n",
      "   comp.sys.mac.hardware       0.76      0.62      0.69       205\n",
      "          comp.windows.x       0.81      0.79      0.80       215\n",
      "            misc.forsale       0.75      0.69      0.72       193\n",
      "               rec.autos       0.70      0.68      0.69       196\n",
      "         rec.motorcycles       0.42      0.73      0.53       168\n",
      "      rec.sport.baseball       0.83      0.79      0.81       211\n",
      "        rec.sport.hockey       0.90      0.87      0.88       198\n",
      "               sci.crypt       0.77      0.75      0.76       201\n",
      "         sci.electronics       0.73      0.57      0.64       202\n",
      "                 sci.med       0.81      0.80      0.81       194\n",
      "               sci.space       0.76      0.75      0.76       189\n",
      "  soc.religion.christian       0.53      0.86      0.65       202\n",
      "      talk.politics.guns       0.67      0.76      0.71       188\n",
      "   talk.politics.mideast       0.79      0.74      0.76       182\n",
      "      talk.politics.misc       0.75      0.50      0.60       159\n",
      "      talk.religion.misc       0.64      0.05      0.10       136\n",
      "\n",
      "                accuracy                           0.68      3770\n",
      "               macro avg       0.70      0.67      0.66      3770\n",
      "            weighted avg       0.70      0.68      0.68      3770\n",
      "\n"
     ]
    }
   ],
   "source": [
    "# Display classification report and confusion matrix\n",
    "print('\\nClassification Report:')\n",
    "print(classification_report(y_test, y_pred, target_names=newsgroups.target_names))"
   ]
  },
  {
   "cell_type": "code",
   "execution_count": 10,
   "id": "ff637f69",
   "metadata": {},
   "outputs": [
    {
     "name": "stdout",
     "output_type": "stream",
     "text": [
      "\n",
      "Confusion Matrix:\n",
      "[[ 70   0   3   0   0   1   0   1   6   2   1   2   0   4   4  34   7   9\n",
      "    4   3]\n",
      " [  1 128  17  14   2  11   3   2  10   0   0   2   2   2   4   3   0   1\n",
      "    0   0]\n",
      " [  1  17 123  23   5  10   0   1   9   1   0   3   1   0   0   1   0   0\n",
      "    0   0]\n",
      " [  0  10  19 127  12   3   4   1   1   0   0   0   3   2   1   0   0   0\n",
      "    0   0]\n",
      " [  0   6  10  24 128   1   6   2  12   0   0   4   5   1   3   2   1   0\n",
      "    0   0]\n",
      " [  0  21  12   2   1 169   2   1   3   0   0   0   0   1   1   2   0   0\n",
      "    0   0]\n",
      " [  0   4   2  21   7   1 134   6   3   1   0   3   4   0   5   1   1   0\n",
      "    0   0]\n",
      " [  1   2   0   3   0   4   4 133  24   0   1   0   5   3   5   3   5   1\n",
      "    2   0]\n",
      " [  0   3   0   1   0   0   6  13 123   6   1   1   3   2   3   2   3   0\n",
      "    1   0]\n",
      " [  1   1   0   0   0   0   2   1  16 167   8   2   0   2   2   6   0   3\n",
      "    0   0]\n",
      " [  1   0   0   0   0   1   0   3   9   4 173   2   1   2   0   1   0   1\n",
      "    0   0]\n",
      " [  1   4   3   0   1   3   1   1   4   1   1 150   7   2   1   4   8   4\n",
      "    5   0]\n",
      " [  1  10   5  16  11   0  14   8   8   2   1   3 116   3   2   2   0   0\n",
      "    0   0]\n",
      " [  1   6   1   1   1   0   0   2   7   2   2   2   6 156   2   2   2   0\n",
      "    1   0]\n",
      " [  1   6   0   3   0   0   2   2  13   2   1   5   4   4 142   2   1   0\n",
      "    1   0]\n",
      " [  3   0   2   0   0   2   0   0   6   1   0   1   0   1   0 174   2   7\n",
      "    2   1]\n",
      " [  1   0   1   0   0   0   0   2  15   3   2   7   0   0   3   6 143   0\n",
      "    5   0]\n",
      " [  7   1   0   0   0   2   1   2   9   4   1   3   1   2   1  10   2 134\n",
      "    2   0]\n",
      " [  2   1   1   1   0   0   0   7   6   1   1   3   1   4   4  13  28   6\n",
      "   80   0]\n",
      " [ 27   0   1   0   0   1   0   1   8   3   0   3   0   2   3  63  11   3\n",
      "    3   7]]\n"
     ]
    }
   ],
   "source": [
    "print('\\nConfusion Matrix:')\n",
    "print(confusion_matrix(y_test, y_pred))"
   ]
  },
  {
   "cell_type": "code",
   "execution_count": null,
   "id": "b8b6592f",
   "metadata": {},
   "outputs": [],
   "source": []
  }
 ],
 "metadata": {
  "kernelspec": {
   "display_name": "Python 3 (ipykernel)",
   "language": "python",
   "name": "python3"
  },
  "language_info": {
   "codemirror_mode": {
    "name": "ipython",
    "version": 3
   },
   "file_extension": ".py",
   "mimetype": "text/x-python",
   "name": "python",
   "nbconvert_exporter": "python",
   "pygments_lexer": "ipython3",
   "version": "3.11.5"
  }
 },
 "nbformat": 4,
 "nbformat_minor": 5
}
